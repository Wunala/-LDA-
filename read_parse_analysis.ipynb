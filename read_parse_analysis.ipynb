{
 "cells": [
  {
   "cell_type": "code",
   "execution_count": 72,
   "metadata": {},
   "outputs": [],
   "source": [
    "import pandas as pd\n",
    "import numpy as np\n",
    "import requests\n",
    "import pdfplumber"
   ]
  },
  {
   "cell_type": "code",
   "execution_count": 85,
   "metadata": {},
   "outputs": [
    {
     "data": {
      "text/plain": [
       "(2326, 7)"
      ]
     },
     "execution_count": 85,
     "metadata": {},
     "output_type": "execute_result"
    }
   ],
   "source": [
    "pdf_file = pd.read_csv('sh.csv', encoding='utf-8')\n",
    "pdf_file.shape"
   ]
  },
  {
   "cell_type": "code",
   "execution_count": 88,
   "metadata": {},
   "outputs": [
    {
     "data": {
      "text/html": [
       "<div>\n",
       "<style scoped>\n",
       "    .dataframe tbody tr th:only-of-type {\n",
       "        vertical-align: middle;\n",
       "    }\n",
       "\n",
       "    .dataframe tbody tr th {\n",
       "        vertical-align: top;\n",
       "    }\n",
       "\n",
       "    .dataframe thead th {\n",
       "        text-align: right;\n",
       "    }\n",
       "</style>\n",
       "<table border=\"1\" class=\"dataframe\">\n",
       "  <thead>\n",
       "    <tr style=\"text-align: right;\">\n",
       "      <th></th>\n",
       "      <th>时间2</th>\n",
       "      <th>公司代码</th>\n",
       "      <th>函件类别</th>\n",
       "      <th>公司简称</th>\n",
       "      <th>函件类型</th>\n",
       "      <th>网址</th>\n",
       "      <th>函件编码</th>\n",
       "    </tr>\n",
       "  </thead>\n",
       "  <tbody>\n",
       "    <tr>\n",
       "      <th>0</th>\n",
       "      <td>2021-07-26 18:10:01</td>\n",
       "      <td>600872</td>\n",
       "      <td>问询函</td>\n",
       "      <td>中炬高新</td>\n",
       "      <td>pdf</td>\n",
       "      <td>www.sse.com.cn/disclosure/credibility/supervis...</td>\n",
       "      <td>8142881902368649</td>\n",
       "    </tr>\n",
       "    <tr>\n",
       "      <th>1</th>\n",
       "      <td>2021-07-26 17:10:02</td>\n",
       "      <td>600811</td>\n",
       "      <td>重大资产重组预案审核意见函</td>\n",
       "      <td>东方集团</td>\n",
       "      <td>pdf</td>\n",
       "      <td>www.sse.com.cn/disclosure/credibility/supervis...</td>\n",
       "      <td>8142881895334327</td>\n",
       "    </tr>\n",
       "    <tr>\n",
       "      <th>2</th>\n",
       "      <td>2021-07-26 17:10:01</td>\n",
       "      <td>600277</td>\n",
       "      <td>问询函</td>\n",
       "      <td>亿利洁能</td>\n",
       "      <td>pdf</td>\n",
       "      <td>www.sse.com.cn/disclosure/credibility/supervis...</td>\n",
       "      <td>8142881902318601</td>\n",
       "    </tr>\n",
       "    <tr>\n",
       "      <th>3</th>\n",
       "      <td>2021-07-21 22:50:01</td>\n",
       "      <td>603306</td>\n",
       "      <td>问询函</td>\n",
       "      <td>华懋科技</td>\n",
       "      <td>pdf</td>\n",
       "      <td>www.sse.com.cn/disclosure/credibility/supervis...</td>\n",
       "      <td>8142820810585438</td>\n",
       "    </tr>\n",
       "    <tr>\n",
       "      <th>4</th>\n",
       "      <td>2021-07-21 22:00:01</td>\n",
       "      <td>688096</td>\n",
       "      <td>问询函</td>\n",
       "      <td>京源环保</td>\n",
       "      <td>pdf</td>\n",
       "      <td>www.sse.com.cn/disclosure/credibility/supervis...</td>\n",
       "      <td>8142820816935509</td>\n",
       "    </tr>\n",
       "  </tbody>\n",
       "</table>\n",
       "</div>"
      ],
      "text/plain": [
       "                   时间2    公司代码           函件类别  公司简称 函件类型  \\\n",
       "0  2021-07-26 18:10:01  600872            问询函  中炬高新  pdf   \n",
       "1  2021-07-26 17:10:02  600811  重大资产重组预案审核意见函  东方集团  pdf   \n",
       "2  2021-07-26 17:10:01  600277            问询函  亿利洁能  pdf   \n",
       "3  2021-07-21 22:50:01  603306            问询函  华懋科技  pdf   \n",
       "4  2021-07-21 22:00:01  688096            问询函  京源环保  pdf   \n",
       "\n",
       "                                                  网址              函件编码  \n",
       "0  www.sse.com.cn/disclosure/credibility/supervis...  8142881902368649  \n",
       "1  www.sse.com.cn/disclosure/credibility/supervis...  8142881895334327  \n",
       "2  www.sse.com.cn/disclosure/credibility/supervis...  8142881902318601  \n",
       "3  www.sse.com.cn/disclosure/credibility/supervis...  8142820810585438  \n",
       "4  www.sse.com.cn/disclosure/credibility/supervis...  8142820816935509  "
      ]
     },
     "execution_count": 88,
     "metadata": {},
     "output_type": "execute_result"
    }
   ],
   "source": [
    "pdf_file.head()"
   ]
  },
  {
   "cell_type": "code",
   "execution_count": 46,
   "metadata": {},
   "outputs": [
    {
     "data": {
      "text/plain": [
       "问询函              830\n",
       "定期报告事后审核意见函      518\n",
       "重大资产重组预案审核意见函    435\n",
       "并购重组审核意见函        297\n",
       "定期报告信息披露监管问询函    165\n",
       "年报审核问询函           80\n",
       "监管工作函              1\n",
       "Name: 函件类别, dtype: int64"
      ]
     },
     "execution_count": 46,
     "metadata": {},
     "output_type": "execute_result"
    }
   ],
   "source": [
    "pdf_file['函件类别'].value_counts()"
   ]
  },
  {
   "cell_type": "code",
   "execution_count": 55,
   "metadata": {},
   "outputs": [
    {
     "data": {
      "text/html": [
       "<div>\n",
       "<style scoped>\n",
       "    .dataframe tbody tr th:only-of-type {\n",
       "        vertical-align: middle;\n",
       "    }\n",
       "\n",
       "    .dataframe tbody tr th {\n",
       "        vertical-align: top;\n",
       "    }\n",
       "\n",
       "    .dataframe thead th {\n",
       "        text-align: right;\n",
       "    }\n",
       "</style>\n",
       "<table border=\"1\" class=\"dataframe\">\n",
       "  <thead>\n",
       "    <tr style=\"text-align: right;\">\n",
       "      <th></th>\n",
       "      <th>数量</th>\n",
       "    </tr>\n",
       "  </thead>\n",
       "  <tbody>\n",
       "    <tr>\n",
       "      <th>问询函</th>\n",
       "      <td>830</td>\n",
       "    </tr>\n",
       "    <tr>\n",
       "      <th>定期报告事后审核意见函</th>\n",
       "      <td>518</td>\n",
       "    </tr>\n",
       "    <tr>\n",
       "      <th>重大资产重组预案审核意见函</th>\n",
       "      <td>435</td>\n",
       "    </tr>\n",
       "    <tr>\n",
       "      <th>并购重组审核意见函</th>\n",
       "      <td>297</td>\n",
       "    </tr>\n",
       "    <tr>\n",
       "      <th>定期报告信息披露监管问询函</th>\n",
       "      <td>165</td>\n",
       "    </tr>\n",
       "    <tr>\n",
       "      <th>年报审核问询函</th>\n",
       "      <td>80</td>\n",
       "    </tr>\n",
       "    <tr>\n",
       "      <th>监管工作函</th>\n",
       "      <td>1</td>\n",
       "    </tr>\n",
       "  </tbody>\n",
       "</table>\n",
       "</div>"
      ],
      "text/plain": [
       "                数量\n",
       "问询函            830\n",
       "定期报告事后审核意见函    518\n",
       "重大资产重组预案审核意见函  435\n",
       "并购重组审核意见函      297\n",
       "定期报告信息披露监管问询函  165\n",
       "年报审核问询函         80\n",
       "监管工作函            1"
      ]
     },
     "execution_count": 55,
     "metadata": {},
     "output_type": "execute_result"
    }
   ],
   "source": [
    "ser1 = pd.DataFrame(pdf_file['函件类别'].value_counts().rename('数量'), columns=['数量'])\n",
    "ser1"
   ]
  },
  {
   "cell_type": "code",
   "execution_count": null,
   "metadata": {},
   "outputs": [],
   "source": [
    "for i in range(pdf_file.shape[0]):\n",
    "    numm = str(pdf_file['函件编码'][i])\n",
    "    url = 'http://' + pdf_file['网址'][i]\n",
    "    r = requests.get(url)\n",
    "    file_name = f'{numm}.pdf'\n",
    "    with open(f\"问询函pdf/{file_name}\", \"wb\") as code:\n",
    "         code.write(r.content)"
   ]
  },
  {
   "cell_type": "code",
   "execution_count": 6,
   "metadata": {},
   "outputs": [],
   "source": [
    "for i in range(pdf_file.shape[0]):\n",
    "    numm = str(pdf_file['函件编码'][i])\n",
    "    try:\n",
    "        with pdfplumber.open(f'问询函pdf/{numm}.pdf') as pdf:\n",
    "            for page in pdf.pages:\n",
    "                text = page.extract_text()\n",
    "                text_file = open(f'问询函_txt/{numm}.txt', mode='a', encoding='utf-8')\n",
    "                text_file.write(text)\n",
    "    except:\n",
    "        pass"
   ]
  },
  {
   "cell_type": "code",
   "execution_count": 82,
   "metadata": {},
   "outputs": [
    {
     "data": {
      "text/html": [
       "<div>\n",
       "<style scoped>\n",
       "    .dataframe tbody tr th:only-of-type {\n",
       "        vertical-align: middle;\n",
       "    }\n",
       "\n",
       "    .dataframe tbody tr th {\n",
       "        vertical-align: top;\n",
       "    }\n",
       "\n",
       "    .dataframe thead th {\n",
       "        text-align: right;\n",
       "    }\n",
       "</style>\n",
       "<table border=\"1\" class=\"dataframe\">\n",
       "  <thead>\n",
       "    <tr style=\"text-align: right;\">\n",
       "      <th></th>\n",
       "      <th>Unnamed: 0</th>\n",
       "      <th>函件编码</th>\n",
       "      <th>主题</th>\n",
       "    </tr>\n",
       "  </thead>\n",
       "  <tbody>\n",
       "    <tr>\n",
       "      <th>0</th>\n",
       "      <td>0</td>\n",
       "      <td>8142881902368649</td>\n",
       "      <td>4</td>\n",
       "    </tr>\n",
       "    <tr>\n",
       "      <th>1</th>\n",
       "      <td>1</td>\n",
       "      <td>8142881895334327</td>\n",
       "      <td>4</td>\n",
       "    </tr>\n",
       "    <tr>\n",
       "      <th>2</th>\n",
       "      <td>2</td>\n",
       "      <td>8142881902318601</td>\n",
       "      <td>4</td>\n",
       "    </tr>\n",
       "    <tr>\n",
       "      <th>3</th>\n",
       "      <td>3</td>\n",
       "      <td>8142820810585438</td>\n",
       "      <td>4</td>\n",
       "    </tr>\n",
       "    <tr>\n",
       "      <th>4</th>\n",
       "      <td>4</td>\n",
       "      <td>8142820816935509</td>\n",
       "      <td>4</td>\n",
       "    </tr>\n",
       "    <tr>\n",
       "      <th>...</th>\n",
       "      <td>...</td>\n",
       "      <td>...</td>\n",
       "      <td>...</td>\n",
       "    </tr>\n",
       "    <tr>\n",
       "      <th>2321</th>\n",
       "      <td>2321</td>\n",
       "      <td>4118998</td>\n",
       "      <td>4</td>\n",
       "    </tr>\n",
       "    <tr>\n",
       "      <th>2322</th>\n",
       "      <td>2322</td>\n",
       "      <td>4118976</td>\n",
       "      <td>4</td>\n",
       "    </tr>\n",
       "    <tr>\n",
       "      <th>2323</th>\n",
       "      <td>2323</td>\n",
       "      <td>4118987</td>\n",
       "      <td>4</td>\n",
       "    </tr>\n",
       "    <tr>\n",
       "      <th>2324</th>\n",
       "      <td>2324</td>\n",
       "      <td>4119009</td>\n",
       "      <td>2</td>\n",
       "    </tr>\n",
       "    <tr>\n",
       "      <th>2325</th>\n",
       "      <td>2325</td>\n",
       "      <td>4118988</td>\n",
       "      <td>4</td>\n",
       "    </tr>\n",
       "  </tbody>\n",
       "</table>\n",
       "<p>2326 rows × 3 columns</p>\n",
       "</div>"
      ],
      "text/plain": [
       "      Unnamed: 0              函件编码  主题\n",
       "0              0  8142881902368649   4\n",
       "1              1  8142881895334327   4\n",
       "2              2  8142881902318601   4\n",
       "3              3  8142820810585438   4\n",
       "4              4  8142820816935509   4\n",
       "...          ...               ...  ..\n",
       "2321        2321           4118998   4\n",
       "2322        2322           4118976   4\n",
       "2323        2323           4118987   4\n",
       "2324        2324           4119009   2\n",
       "2325        2325           4118988   4\n",
       "\n",
       "[2326 rows x 3 columns]"
      ]
     },
     "execution_count": 82,
     "metadata": {},
     "output_type": "execute_result"
    }
   ],
   "source": [
    "topic_result = pd.read_csv('topic_result.csv')\n",
    "topic_result"
   ]
  },
  {
   "cell_type": "code",
   "execution_count": 56,
   "metadata": {},
   "outputs": [
    {
     "data": {
      "text/html": [
       "<div>\n",
       "<style scoped>\n",
       "    .dataframe tbody tr th:only-of-type {\n",
       "        vertical-align: middle;\n",
       "    }\n",
       "\n",
       "    .dataframe tbody tr th {\n",
       "        vertical-align: top;\n",
       "    }\n",
       "\n",
       "    .dataframe thead th {\n",
       "        text-align: right;\n",
       "    }\n",
       "</style>\n",
       "<table border=\"1\" class=\"dataframe\">\n",
       "  <thead>\n",
       "    <tr style=\"text-align: right;\">\n",
       "      <th></th>\n",
       "      <th>数量</th>\n",
       "    </tr>\n",
       "  </thead>\n",
       "  <tbody>\n",
       "    <tr>\n",
       "      <th>4</th>\n",
       "      <td>2214</td>\n",
       "    </tr>\n",
       "    <tr>\n",
       "      <th>0</th>\n",
       "      <td>53</td>\n",
       "    </tr>\n",
       "    <tr>\n",
       "      <th>3</th>\n",
       "      <td>27</td>\n",
       "    </tr>\n",
       "    <tr>\n",
       "      <th>2</th>\n",
       "      <td>24</td>\n",
       "    </tr>\n",
       "    <tr>\n",
       "      <th>1</th>\n",
       "      <td>8</td>\n",
       "    </tr>\n",
       "  </tbody>\n",
       "</table>\n",
       "</div>"
      ],
      "text/plain": [
       "     数量\n",
       "4  2214\n",
       "0    53\n",
       "3    27\n",
       "2    24\n",
       "1     8"
      ]
     },
     "execution_count": 56,
     "metadata": {},
     "output_type": "execute_result"
    }
   ],
   "source": [
    "ser2 = pd.DataFrame(topic_result['主题'].value_counts().rename('数量'), columns=['数量'])\n",
    "ser2"
   ]
  },
  {
   "cell_type": "code",
   "execution_count": 18,
   "metadata": {},
   "outputs": [
    {
     "data": {
      "text/html": [
       "<div>\n",
       "<style scoped>\n",
       "    .dataframe tbody tr th:only-of-type {\n",
       "        vertical-align: middle;\n",
       "    }\n",
       "\n",
       "    .dataframe tbody tr th {\n",
       "        vertical-align: top;\n",
       "    }\n",
       "\n",
       "    .dataframe thead th {\n",
       "        text-align: right;\n",
       "    }\n",
       "</style>\n",
       "<table border=\"1\" class=\"dataframe\">\n",
       "  <thead>\n",
       "    <tr style=\"text-align: right;\">\n",
       "      <th></th>\n",
       "      <th>Unnamed: 0</th>\n",
       "      <th>topic</th>\n",
       "      <th>top20_words</th>\n",
       "    </tr>\n",
       "  </thead>\n",
       "  <tbody>\n",
       "    <tr>\n",
       "      <th>0</th>\n",
       "      <td>0</td>\n",
       "      <td>0</td>\n",
       "      <td>股票上市 董事会 总股本 高送转 核实 转增股本 知情人 方案 议案 收函 书面形式 含税 ...</td>\n",
       "    </tr>\n",
       "    <tr>\n",
       "      <th>1</th>\n",
       "      <td>1</td>\n",
       "      <td>1</td>\n",
       "      <td>战略 德合 小微企业 德信 典当 金融 经营权 贷款人 产权交易 委托人 产业链 部分股权 ...</td>\n",
       "    </tr>\n",
       "    <tr>\n",
       "      <th>2</th>\n",
       "      <td>2</td>\n",
       "      <td>2</td>\n",
       "      <td>项目 内容 投项 失败率 产量 油价 流动资金 股权融资 哈萨克斯坦证券交易所 漏损 能源行...</td>\n",
       "    </tr>\n",
       "    <tr>\n",
       "      <th>3</th>\n",
       "      <td>3</td>\n",
       "      <td>3</td>\n",
       "      <td>基准日 定价 预案 均价 交易日 股票交易 资质 债权人 股份发行 办理 书面 问题 价格 ...</td>\n",
       "    </tr>\n",
       "    <tr>\n",
       "      <th>4</th>\n",
       "      <td>4</td>\n",
       "      <td>4</td>\n",
       "      <td>公司 情况 原因 标的 交易 资产 合理性 报告期 会计师 业务 格式 预案 计提 净利润 ...</td>\n",
       "    </tr>\n",
       "  </tbody>\n",
       "</table>\n",
       "</div>"
      ],
      "text/plain": [
       "   Unnamed: 0  topic                                        top20_words\n",
       "0           0      0  股票上市 董事会 总股本 高送转 核实 转增股本 知情人 方案 议案 收函 书面形式 含税 ...\n",
       "1           1      1  战略 德合 小微企业 德信 典当 金融 经营权 贷款人 产权交易 委托人 产业链 部分股权 ...\n",
       "2           2      2  项目 内容 投项 失败率 产量 油价 流动资金 股权融资 哈萨克斯坦证券交易所 漏损 能源行...\n",
       "3           3      3  基准日 定价 预案 均价 交易日 股票交易 资质 债权人 股份发行 办理 书面 问题 价格 ...\n",
       "4           4      4  公司 情况 原因 标的 交易 资产 合理性 报告期 会计师 业务 格式 预案 计提 净利润 ..."
      ]
     },
     "execution_count": 18,
     "metadata": {},
     "output_type": "execute_result"
    }
   ],
   "source": [
    "topic_top20words = pd.read_csv('topic_top20words')\n",
    "topic_top20words"
   ]
  },
  {
   "cell_type": "code",
   "execution_count": 89,
   "metadata": {},
   "outputs": [
    {
     "data": {
      "text/html": [
       "<div>\n",
       "<style scoped>\n",
       "    .dataframe tbody tr th:only-of-type {\n",
       "        vertical-align: middle;\n",
       "    }\n",
       "\n",
       "    .dataframe tbody tr th {\n",
       "        vertical-align: top;\n",
       "    }\n",
       "\n",
       "    .dataframe thead th {\n",
       "        text-align: right;\n",
       "    }\n",
       "</style>\n",
       "<table border=\"1\" class=\"dataframe\">\n",
       "  <thead>\n",
       "    <tr style=\"text-align: right;\">\n",
       "      <th></th>\n",
       "      <th>时间2</th>\n",
       "      <th>公司代码</th>\n",
       "      <th>函件类别</th>\n",
       "      <th>公司简称</th>\n",
       "      <th>函件类型</th>\n",
       "      <th>网址</th>\n",
       "      <th>函件编码</th>\n",
       "      <th>主题</th>\n",
       "    </tr>\n",
       "  </thead>\n",
       "  <tbody>\n",
       "    <tr>\n",
       "      <th>0</th>\n",
       "      <td>2021-07-26 18:10:01</td>\n",
       "      <td>600872</td>\n",
       "      <td>问询函</td>\n",
       "      <td>中炬高新</td>\n",
       "      <td>pdf</td>\n",
       "      <td>www.sse.com.cn/disclosure/credibility/supervis...</td>\n",
       "      <td>8142881902368649</td>\n",
       "      <td>4</td>\n",
       "    </tr>\n",
       "    <tr>\n",
       "      <th>1</th>\n",
       "      <td>2021-07-26 17:10:02</td>\n",
       "      <td>600811</td>\n",
       "      <td>重大资产重组预案审核意见函</td>\n",
       "      <td>东方集团</td>\n",
       "      <td>pdf</td>\n",
       "      <td>www.sse.com.cn/disclosure/credibility/supervis...</td>\n",
       "      <td>8142881895334327</td>\n",
       "      <td>4</td>\n",
       "    </tr>\n",
       "    <tr>\n",
       "      <th>2</th>\n",
       "      <td>2021-07-26 17:10:01</td>\n",
       "      <td>600277</td>\n",
       "      <td>问询函</td>\n",
       "      <td>亿利洁能</td>\n",
       "      <td>pdf</td>\n",
       "      <td>www.sse.com.cn/disclosure/credibility/supervis...</td>\n",
       "      <td>8142881902318601</td>\n",
       "      <td>4</td>\n",
       "    </tr>\n",
       "    <tr>\n",
       "      <th>3</th>\n",
       "      <td>2021-07-21 22:50:01</td>\n",
       "      <td>603306</td>\n",
       "      <td>问询函</td>\n",
       "      <td>华懋科技</td>\n",
       "      <td>pdf</td>\n",
       "      <td>www.sse.com.cn/disclosure/credibility/supervis...</td>\n",
       "      <td>8142820810585438</td>\n",
       "      <td>4</td>\n",
       "    </tr>\n",
       "    <tr>\n",
       "      <th>4</th>\n",
       "      <td>2021-07-21 22:00:01</td>\n",
       "      <td>688096</td>\n",
       "      <td>问询函</td>\n",
       "      <td>京源环保</td>\n",
       "      <td>pdf</td>\n",
       "      <td>www.sse.com.cn/disclosure/credibility/supervis...</td>\n",
       "      <td>8142820816935509</td>\n",
       "      <td>4</td>\n",
       "    </tr>\n",
       "  </tbody>\n",
       "</table>\n",
       "</div>"
      ],
      "text/plain": [
       "                   时间2    公司代码           函件类别  公司简称 函件类型  \\\n",
       "0  2021-07-26 18:10:01  600872            问询函  中炬高新  pdf   \n",
       "1  2021-07-26 17:10:02  600811  重大资产重组预案审核意见函  东方集团  pdf   \n",
       "2  2021-07-26 17:10:01  600277            问询函  亿利洁能  pdf   \n",
       "3  2021-07-21 22:50:01  603306            问询函  华懋科技  pdf   \n",
       "4  2021-07-21 22:00:01  688096            问询函  京源环保  pdf   \n",
       "\n",
       "                                                  网址              函件编码  主题  \n",
       "0  www.sse.com.cn/disclosure/credibility/supervis...  8142881902368649   4  \n",
       "1  www.sse.com.cn/disclosure/credibility/supervis...  8142881895334327   4  \n",
       "2  www.sse.com.cn/disclosure/credibility/supervis...  8142881902318601   4  \n",
       "3  www.sse.com.cn/disclosure/credibility/supervis...  8142820810585438   4  \n",
       "4  www.sse.com.cn/disclosure/credibility/supervis...  8142820816935509   4  "
      ]
     },
     "execution_count": 89,
     "metadata": {},
     "output_type": "execute_result"
    }
   ],
   "source": [
    "pdf_file['主题'] = topic_result['主题']\n",
    "pdf_file.head()"
   ]
  },
  {
   "cell_type": "code",
   "execution_count": 84,
   "metadata": {},
   "outputs": [
    {
     "data": {
      "text/plain": [
       "Index(['时间2', '公司代码', '函件类别', '公司简称', '函件类型', '网址', '函件编码', '主题'], dtype='object')"
      ]
     },
     "execution_count": 84,
     "metadata": {},
     "output_type": "execute_result"
    }
   ],
   "source": [
    "pdf_file.columns"
   ]
  },
  {
   "cell_type": "code",
   "execution_count": 57,
   "metadata": {},
   "outputs": [
    {
     "data": {
      "text/html": [
       "<div>\n",
       "<style scoped>\n",
       "    .dataframe tbody tr th:only-of-type {\n",
       "        vertical-align: middle;\n",
       "    }\n",
       "\n",
       "    .dataframe tbody tr th {\n",
       "        vertical-align: top;\n",
       "    }\n",
       "\n",
       "    .dataframe thead th {\n",
       "        text-align: right;\n",
       "    }\n",
       "</style>\n",
       "<table border=\"1\" class=\"dataframe\">\n",
       "  <thead>\n",
       "    <tr style=\"text-align: right;\">\n",
       "      <th></th>\n",
       "      <th>数量</th>\n",
       "    </tr>\n",
       "  </thead>\n",
       "  <tbody>\n",
       "    <tr>\n",
       "      <th>4</th>\n",
       "      <td>740</td>\n",
       "    </tr>\n",
       "    <tr>\n",
       "      <th>0</th>\n",
       "      <td>52</td>\n",
       "    </tr>\n",
       "    <tr>\n",
       "      <th>2</th>\n",
       "      <td>22</td>\n",
       "    </tr>\n",
       "    <tr>\n",
       "      <th>3</th>\n",
       "      <td>10</td>\n",
       "    </tr>\n",
       "    <tr>\n",
       "      <th>1</th>\n",
       "      <td>6</td>\n",
       "    </tr>\n",
       "  </tbody>\n",
       "</table>\n",
       "</div>"
      ],
      "text/plain": [
       "    数量\n",
       "4  740\n",
       "0   52\n",
       "2   22\n",
       "3   10\n",
       "1    6"
      ]
     },
     "execution_count": 57,
     "metadata": {},
     "output_type": "execute_result"
    }
   ],
   "source": [
    "ser3 = pd.DataFrame(pdf_file[pdf_file['函件类别'] == '问询函']['主题'].value_counts().rename('数量'), columns=['数量'])\n",
    "ser3"
   ]
  },
  {
   "cell_type": "code",
   "execution_count": 58,
   "metadata": {},
   "outputs": [
    {
     "data": {
      "text/html": [
       "<div>\n",
       "<style scoped>\n",
       "    .dataframe tbody tr th:only-of-type {\n",
       "        vertical-align: middle;\n",
       "    }\n",
       "\n",
       "    .dataframe tbody tr th {\n",
       "        vertical-align: top;\n",
       "    }\n",
       "\n",
       "    .dataframe thead th {\n",
       "        text-align: right;\n",
       "    }\n",
       "</style>\n",
       "<table border=\"1\" class=\"dataframe\">\n",
       "  <thead>\n",
       "    <tr style=\"text-align: right;\">\n",
       "      <th></th>\n",
       "      <th>数量</th>\n",
       "    </tr>\n",
       "  </thead>\n",
       "  <tbody>\n",
       "    <tr>\n",
       "      <th>4</th>\n",
       "      <td>517</td>\n",
       "    </tr>\n",
       "    <tr>\n",
       "      <th>1</th>\n",
       "      <td>1</td>\n",
       "    </tr>\n",
       "  </tbody>\n",
       "</table>\n",
       "</div>"
      ],
      "text/plain": [
       "    数量\n",
       "4  517\n",
       "1    1"
      ]
     },
     "execution_count": 58,
     "metadata": {},
     "output_type": "execute_result"
    }
   ],
   "source": [
    "ser4 = pd.DataFrame(pdf_file[pdf_file['函件类别'] == '定期报告事后审核意见函']['主题'].value_counts().rename('数量'), columns=['数量'])\n",
    "ser4"
   ]
  },
  {
   "cell_type": "code",
   "execution_count": 59,
   "metadata": {},
   "outputs": [
    {
     "data": {
      "text/html": [
       "<div>\n",
       "<style scoped>\n",
       "    .dataframe tbody tr th:only-of-type {\n",
       "        vertical-align: middle;\n",
       "    }\n",
       "\n",
       "    .dataframe tbody tr th {\n",
       "        vertical-align: top;\n",
       "    }\n",
       "\n",
       "    .dataframe thead th {\n",
       "        text-align: right;\n",
       "    }\n",
       "</style>\n",
       "<table border=\"1\" class=\"dataframe\">\n",
       "  <thead>\n",
       "    <tr style=\"text-align: right;\">\n",
       "      <th></th>\n",
       "      <th>数量</th>\n",
       "    </tr>\n",
       "  </thead>\n",
       "  <tbody>\n",
       "    <tr>\n",
       "      <th>4</th>\n",
       "      <td>424</td>\n",
       "    </tr>\n",
       "    <tr>\n",
       "      <th>3</th>\n",
       "      <td>9</td>\n",
       "    </tr>\n",
       "    <tr>\n",
       "      <th>2</th>\n",
       "      <td>1</td>\n",
       "    </tr>\n",
       "    <tr>\n",
       "      <th>1</th>\n",
       "      <td>1</td>\n",
       "    </tr>\n",
       "  </tbody>\n",
       "</table>\n",
       "</div>"
      ],
      "text/plain": [
       "    数量\n",
       "4  424\n",
       "3    9\n",
       "2    1\n",
       "1    1"
      ]
     },
     "execution_count": 59,
     "metadata": {},
     "output_type": "execute_result"
    }
   ],
   "source": [
    "ser5 = pd.DataFrame(pdf_file[pdf_file['函件类别'] == '重大资产重组预案审核意见函']['主题'].value_counts().rename('数量'), columns=['数量'])\n",
    "ser5"
   ]
  },
  {
   "cell_type": "code",
   "execution_count": 60,
   "metadata": {},
   "outputs": [
    {
     "data": {
      "text/html": [
       "<div>\n",
       "<style scoped>\n",
       "    .dataframe tbody tr th:only-of-type {\n",
       "        vertical-align: middle;\n",
       "    }\n",
       "\n",
       "    .dataframe tbody tr th {\n",
       "        vertical-align: top;\n",
       "    }\n",
       "\n",
       "    .dataframe thead th {\n",
       "        text-align: right;\n",
       "    }\n",
       "</style>\n",
       "<table border=\"1\" class=\"dataframe\">\n",
       "  <thead>\n",
       "    <tr style=\"text-align: right;\">\n",
       "      <th></th>\n",
       "      <th>数量</th>\n",
       "    </tr>\n",
       "  </thead>\n",
       "  <tbody>\n",
       "    <tr>\n",
       "      <th>4</th>\n",
       "      <td>288</td>\n",
       "    </tr>\n",
       "    <tr>\n",
       "      <th>3</th>\n",
       "      <td>8</td>\n",
       "    </tr>\n",
       "    <tr>\n",
       "      <th>2</th>\n",
       "      <td>1</td>\n",
       "    </tr>\n",
       "  </tbody>\n",
       "</table>\n",
       "</div>"
      ],
      "text/plain": [
       "    数量\n",
       "4  288\n",
       "3    8\n",
       "2    1"
      ]
     },
     "execution_count": 60,
     "metadata": {},
     "output_type": "execute_result"
    }
   ],
   "source": [
    "ser6 = pd.DataFrame(pdf_file[pdf_file['函件类别'] == '并购重组审核意见函']['主题'].value_counts().rename('数量'), columns=['数量'])\n",
    "ser6"
   ]
  },
  {
   "cell_type": "code",
   "execution_count": 61,
   "metadata": {},
   "outputs": [
    {
     "data": {
      "text/html": [
       "<div>\n",
       "<style scoped>\n",
       "    .dataframe tbody tr th:only-of-type {\n",
       "        vertical-align: middle;\n",
       "    }\n",
       "\n",
       "    .dataframe tbody tr th {\n",
       "        vertical-align: top;\n",
       "    }\n",
       "\n",
       "    .dataframe thead th {\n",
       "        text-align: right;\n",
       "    }\n",
       "</style>\n",
       "<table border=\"1\" class=\"dataframe\">\n",
       "  <thead>\n",
       "    <tr style=\"text-align: right;\">\n",
       "      <th></th>\n",
       "      <th>数量</th>\n",
       "    </tr>\n",
       "  </thead>\n",
       "  <tbody>\n",
       "    <tr>\n",
       "      <th>4</th>\n",
       "      <td>165</td>\n",
       "    </tr>\n",
       "  </tbody>\n",
       "</table>\n",
       "</div>"
      ],
      "text/plain": [
       "    数量\n",
       "4  165"
      ]
     },
     "execution_count": 61,
     "metadata": {},
     "output_type": "execute_result"
    }
   ],
   "source": [
    "ser7 = pd.DataFrame(pdf_file[pdf_file['函件类别'] == '定期报告信息披露监管问询函']['主题'].value_counts().rename('数量'), columns=['数量'])\n",
    "ser7"
   ]
  },
  {
   "cell_type": "code",
   "execution_count": 62,
   "metadata": {},
   "outputs": [
    {
     "data": {
      "text/html": [
       "<div>\n",
       "<style scoped>\n",
       "    .dataframe tbody tr th:only-of-type {\n",
       "        vertical-align: middle;\n",
       "    }\n",
       "\n",
       "    .dataframe tbody tr th {\n",
       "        vertical-align: top;\n",
       "    }\n",
       "\n",
       "    .dataframe thead th {\n",
       "        text-align: right;\n",
       "    }\n",
       "</style>\n",
       "<table border=\"1\" class=\"dataframe\">\n",
       "  <thead>\n",
       "    <tr style=\"text-align: right;\">\n",
       "      <th></th>\n",
       "      <th>数量</th>\n",
       "    </tr>\n",
       "  </thead>\n",
       "  <tbody>\n",
       "    <tr>\n",
       "      <th>4</th>\n",
       "      <td>80</td>\n",
       "    </tr>\n",
       "  </tbody>\n",
       "</table>\n",
       "</div>"
      ],
      "text/plain": [
       "   数量\n",
       "4  80"
      ]
     },
     "execution_count": 62,
     "metadata": {},
     "output_type": "execute_result"
    }
   ],
   "source": [
    "ser8 = pd.DataFrame(pdf_file[pdf_file['函件类别'] == '年报审核问询函']['主题'].value_counts().rename('数量'), columns=['数量'])\n",
    "ser8"
   ]
  },
  {
   "cell_type": "code",
   "execution_count": 63,
   "metadata": {},
   "outputs": [
    {
     "data": {
      "text/html": [
       "<div>\n",
       "<style scoped>\n",
       "    .dataframe tbody tr th:only-of-type {\n",
       "        vertical-align: middle;\n",
       "    }\n",
       "\n",
       "    .dataframe tbody tr th {\n",
       "        vertical-align: top;\n",
       "    }\n",
       "\n",
       "    .dataframe thead th {\n",
       "        text-align: right;\n",
       "    }\n",
       "</style>\n",
       "<table border=\"1\" class=\"dataframe\">\n",
       "  <thead>\n",
       "    <tr style=\"text-align: right;\">\n",
       "      <th></th>\n",
       "      <th>数量</th>\n",
       "    </tr>\n",
       "  </thead>\n",
       "  <tbody>\n",
       "    <tr>\n",
       "      <th>0</th>\n",
       "      <td>1</td>\n",
       "    </tr>\n",
       "  </tbody>\n",
       "</table>\n",
       "</div>"
      ],
      "text/plain": [
       "   数量\n",
       "0   1"
      ]
     },
     "execution_count": 63,
     "metadata": {},
     "output_type": "execute_result"
    }
   ],
   "source": [
    "ser9 = pd.DataFrame(pdf_file[pdf_file['函件类别'] == '监管工作函']['主题'].value_counts().rename('数量'), columns=['数量'])\n",
    "ser9"
   ]
  },
  {
   "cell_type": "code",
   "execution_count": 66,
   "metadata": {},
   "outputs": [],
   "source": [
    "topic0 = pd.read_csv('topic0_top20words.csv')\n",
    "topic1 = pd.read_csv('topic1_top20words.csv')\n",
    "topic2 = pd.read_csv('topic2_top20words.csv')\n",
    "topic3 = pd.read_csv('topic3_top20words.csv')\n",
    "topic4 = pd.read_csv('topic4_top20words.csv')"
   ]
  },
  {
   "cell_type": "code",
   "execution_count": null,
   "metadata": {},
   "outputs": [],
   "source": []
  }
 ],
 "metadata": {
  "kernelspec": {
   "display_name": "Python 3",
   "language": "python",
   "name": "python3"
  },
  "language_info": {
   "codemirror_mode": {
    "name": "ipython",
    "version": 3
   },
   "file_extension": ".py",
   "mimetype": "text/x-python",
   "name": "python",
   "nbconvert_exporter": "python",
   "pygments_lexer": "ipython3",
   "version": "3.8.5"
  }
 },
 "nbformat": 4,
 "nbformat_minor": 4
}
